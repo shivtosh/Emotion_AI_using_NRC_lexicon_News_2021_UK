{
 "cells": [
  {
   "cell_type": "code",
   "execution_count": 1,
   "id": "00f7d9c4",
   "metadata": {},
   "outputs": [],
   "source": [
    "import pandas as pd"
   ]
  },
  {
   "cell_type": "code",
   "execution_count": 2,
   "id": "2b1a719a",
   "metadata": {},
   "outputs": [
    {
     "data": {
      "text/plain": [
       "(2015, 5)"
      ]
     },
     "execution_count": 2,
     "metadata": {},
     "output_type": "execute_result"
    }
   ],
   "source": [
    "data_jan_to_mar=pd.read_csv(r\"C:\\Users\\WELCOME\\Downloads\\data\\data_31_dec_to_25_mar.csv\")\n",
    "data_jan_to_mar.shape"
   ]
  },
  {
   "cell_type": "code",
   "execution_count": 3,
   "id": "8b70ad72",
   "metadata": {},
   "outputs": [
    {
     "data": {
      "text/plain": [
       "(1001, 5)"
      ]
     },
     "execution_count": 3,
     "metadata": {},
     "output_type": "execute_result"
    }
   ],
   "source": [
    "data_mar_to_may=pd.read_csv(r\"C:\\Users\\WELCOME\\Downloads\\data\\data_26Mar_to_29May.csv\")\n",
    "data_mar_to_may.shape"
   ]
  },
  {
   "cell_type": "code",
   "execution_count": 4,
   "id": "35030b10",
   "metadata": {},
   "outputs": [
    {
     "data": {
      "text/plain": [
       "(1872, 5)"
      ]
     },
     "execution_count": 4,
     "metadata": {},
     "output_type": "execute_result"
    }
   ],
   "source": [
    "data_may_to_july=pd.read_csv(r\"C:\\Users\\WELCOME\\Downloads\\data\\data_30_May_to_26_july.csv\")\n",
    "data_may_to_july.shape"
   ]
  },
  {
   "cell_type": "code",
   "execution_count": 5,
   "id": "96f55094",
   "metadata": {},
   "outputs": [
    {
     "data": {
      "text/plain": [
       "(109, 5)"
      ]
     },
     "execution_count": 5,
     "metadata": {},
     "output_type": "execute_result"
    }
   ],
   "source": [
    "data_july=pd.read_csv(r\"C:\\Users\\WELCOME\\Downloads\\data\\data_27july_to_30july .csv\")\n",
    "data_july.shape"
   ]
  },
  {
   "cell_type": "code",
   "execution_count": 6,
   "id": "fb8d4caa",
   "metadata": {},
   "outputs": [
    {
     "data": {
      "text/plain": [
       "(1895, 5)"
      ]
     },
     "execution_count": 6,
     "metadata": {},
     "output_type": "execute_result"
    }
   ],
   "source": [
    "data_july_to_oct=pd.read_csv(r\"C:\\Users\\WELCOME\\Downloads\\data\\data_31_july_to_26_oct .csv\")\n",
    "data_july_to_oct.shape"
   ]
  },
  {
   "cell_type": "code",
   "execution_count": 7,
   "id": "11e48508",
   "metadata": {},
   "outputs": [
    {
     "data": {
      "text/plain": [
       "(917, 5)"
      ]
     },
     "execution_count": 7,
     "metadata": {},
     "output_type": "execute_result"
    }
   ],
   "source": [
    "data_oct_to_dec=pd.read_csv(r\"C:\\Users\\WELCOME\\Downloads\\data\\data_27_oct_to_14_dec.csv\")\n",
    "data_oct_to_dec.shape"
   ]
  },
  {
   "cell_type": "code",
   "execution_count": 8,
   "id": "0ce5b669",
   "metadata": {},
   "outputs": [],
   "source": [
    "data_m1=pd.concat([data_jan_to_mar,data_mar_to_may],axis=0)"
   ]
  },
  {
   "cell_type": "code",
   "execution_count": 9,
   "id": "32f67df4",
   "metadata": {},
   "outputs": [],
   "source": [
    "data_m2=pd.concat([data_m1,data_may_to_july],axis=0)"
   ]
  },
  {
   "cell_type": "code",
   "execution_count": 10,
   "id": "5ff3c72c",
   "metadata": {},
   "outputs": [],
   "source": [
    "data_m3=pd.concat([data_m2,data_july],axis=0)"
   ]
  },
  {
   "cell_type": "code",
   "execution_count": 11,
   "id": "75c07d80",
   "metadata": {},
   "outputs": [],
   "source": [
    "data_m4=pd.concat([data_m3,data_july_to_oct],axis=0)"
   ]
  },
  {
   "cell_type": "code",
   "execution_count": 12,
   "id": "8e2635aa",
   "metadata": {},
   "outputs": [],
   "source": [
    "data_m5=pd.concat([data_m4,data_oct_to_dec],axis=0)"
   ]
  },
  {
   "cell_type": "code",
   "execution_count": 13,
   "id": "562a3a7b",
   "metadata": {},
   "outputs": [
    {
     "data": {
      "text/plain": [
       "(7809, 5)"
      ]
     },
     "execution_count": 13,
     "metadata": {},
     "output_type": "execute_result"
    }
   ],
   "source": [
    "data_m5.shape"
   ]
  },
  {
   "cell_type": "code",
   "execution_count": 14,
   "id": "1c9e5c45",
   "metadata": {},
   "outputs": [],
   "source": [
    "data_m5.to_csv(r\"C:\\Users\\WELCOME\\Downloads\\data\\final_dataset.csv\",index=False)"
   ]
  },
  {
   "cell_type": "code",
   "execution_count": null,
   "id": "3bd00e51",
   "metadata": {},
   "outputs": [],
   "source": []
  }
 ],
 "metadata": {
  "kernelspec": {
   "display_name": "Python 3 (ipykernel)",
   "language": "python",
   "name": "python3"
  },
  "language_info": {
   "codemirror_mode": {
    "name": "ipython",
    "version": 3
   },
   "file_extension": ".py",
   "mimetype": "text/x-python",
   "name": "python",
   "nbconvert_exporter": "python",
   "pygments_lexer": "ipython3",
   "version": "3.9.12"
  }
 },
 "nbformat": 4,
 "nbformat_minor": 5
}
