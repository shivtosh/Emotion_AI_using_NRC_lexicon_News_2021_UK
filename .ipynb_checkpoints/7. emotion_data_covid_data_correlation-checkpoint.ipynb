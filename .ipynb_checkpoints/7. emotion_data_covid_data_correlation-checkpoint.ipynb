{
 "cells": [
  {
   "cell_type": "code",
   "execution_count": 46,
   "id": "1c2bdd33",
   "metadata": {},
   "outputs": [],
   "source": [
    "import pandas as pd\n",
    "from datetime import datetime\n",
    "import matplotlib.pyplot as plt\n",
    "from scipy.stats import pearsonr\n",
    "import scipy.stats\n",
    "import numpy as np\n",
    "from datetime import timedelta, date\n",
    "import seaborn as sns\n",
    "import statsmodels.api as sm\n",
    "from statsmodels.formula.api import ols\n",
    "import numpy as np"
   ]
  },
  {
   "cell_type": "code",
   "execution_count": 47,
   "id": "fad65c55",
   "metadata": {},
   "outputs": [],
   "source": [
    "def date_convert(x):\n",
    "    obj=datetime.strptime(x,'%d %b %Y')\n",
    "    return obj.date()"
   ]
  },
  {
   "cell_type": "code",
   "execution_count": 48,
   "id": "d63678e6",
   "metadata": {},
   "outputs": [],
   "source": [
    "def emo_data_preprocess(start_date,end_date,df):\n",
    "    df.date = df.date.apply(lambda x : x[5:16])\n",
    "    df.date = df.date.apply(lambda x : date_convert(x))\n",
    "    df=df.groupby('date',as_index=False).mean()\n",
    "    df=df.reset_index()\n",
    "    df=df.loc[(df.date>=datetime.strptime(start_date,'%Y-%m-%d').date()) & (df.date<=datetime.strptime(end_date,'%Y-%m-%d').date())]\n",
    "    #print(df.date.unique())\n",
    "    return (df)\n",
    "    \n",
    "    \n",
    "    \n",
    "    "
   ]
  },
  {
   "cell_type": "code",
   "execution_count": 49,
   "id": "718ff312",
   "metadata": {},
   "outputs": [],
   "source": [
    "def date_convert_covid(x):\n",
    "    obj=datetime.strptime(x,'%Y-%m-%d')\n",
    "    return obj.date()"
   ]
  },
  {
   "cell_type": "code",
   "execution_count": 50,
   "id": "4e2680dc",
   "metadata": {},
   "outputs": [],
   "source": [
    "def covid_data_preprocess(df):\n",
    "    df.date = df.date.apply(lambda x : date_convert_covid(x))\n",
    "    return(df)\n",
    "    \n",
    "    \n",
    "    \n",
    "    \n",
    "    \n",
    "    \n",
    "    \n",
    "    \n",
    "    \n",
    "    "
   ]
  },
  {
   "cell_type": "code",
   "execution_count": 51,
   "id": "7e6b7fa6",
   "metadata": {},
   "outputs": [],
   "source": [
    "## Checking if the covid cases are influenced by the "
   ]
  },
  {
   "cell_type": "markdown",
   "id": "5a0b289c",
   "metadata": {},
   "source": [
    "## Correlation Analysis ##"
   ]
  },
  {
   "cell_type": "code",
   "execution_count": 52,
   "id": "6a72d805",
   "metadata": {},
   "outputs": [],
   "source": [
    "def data_merge(emo_data,covid_data,lag):\n",
    "    lst=[]\n",
    "    for k in range(0,len(emo_data)):\n",
    "        #print(k,emo_data.date[k])\n",
    "        end_date=emo_data.date[k]+timedelta(days=lag)\n",
    "        #print(end_date)\n",
    "        if end_date in covid_data.date.unique():\n",
    "            cc=covid_data.newCasesBySpecimenDate[covid_data.date==end_date]\n",
    "            #print(cc.iloc[0])\n",
    "            lst.append([emo_data.date[k],emo_data.avgLexVal[k],cc.iloc[0]])\n",
    "    return (lst)\n",
    "    \n",
    "    "
   ]
  },
  {
   "cell_type": "code",
   "execution_count": 53,
   "id": "389ac04c",
   "metadata": {},
   "outputs": [],
   "source": [
    "def plot_data(df,lag,emotion):\n",
    "    fig, ax1 = plt.subplots()\n",
    "    #ax2=ax1.twinx()\n",
    "    ax1.set_ylim(0,0.2)\n",
    "    ax1.plot(df.cc_after_lag,df.avgLexVal,color='green')\n",
    "    \n",
    "    ax1.set_ylabel('{} valence'.format(emotion))\n",
    "    ax1.set_xlabel('covid_cases after {} days'.format(lag))\n",
    "    plt.show()"
   ]
  },
  {
   "cell_type": "code",
   "execution_count": 54,
   "id": "7e0446d5",
   "metadata": {},
   "outputs": [],
   "source": [
    "def prep_emo_data(emo,start_date,end_date):\n",
    "    emo_data=pd.read_csv(r\"C:\\Users\\WELCOME\\Downloads\\data\\emo_dyn\\{}.csv\".format(emo),index_col=False)\n",
    "    #print(emo_data.date)\n",
    "    emo_data_clean=emo_data_preprocess(start_date,end_date,emo_data)\n",
    "    emo_data_clean.tail(10)\n",
    "    return (emo_data_clean)"
   ]
  },
  {
   "cell_type": "code",
   "execution_count": 55,
   "id": "b3b12a1f",
   "metadata": {},
   "outputs": [],
   "source": [
    "def covid_data_prep():\n",
    "    covid_data=pd.read_csv(r\"C:\\Users\\WELCOME\\downloads\\data\\covid_data_2021\",index_col=False)\n",
    "    covid_clean=covid_data_preprocess(covid_data)\n",
    "    return (covid_clean)\n"
   ]
  },
  {
   "cell_type": "code",
   "execution_count": 56,
   "id": "d24523d2",
   "metadata": {},
   "outputs": [],
   "source": [
    "emo_combined_data=pd.read_csv(r\"C:\\Users\\WELCOME\\Downloads\\data\\text_emo_data.csv\",index_col=False)"
   ]
  },
  {
   "cell_type": "code",
   "execution_count": 57,
   "id": "8c843b11",
   "metadata": {},
   "outputs": [
    {
     "data": {
      "text/plain": [
       "(7791, 25)"
      ]
     },
     "execution_count": 57,
     "metadata": {},
     "output_type": "execute_result"
    }
   ],
   "source": [
    "emo_combined_data.shape"
   ]
  },
  {
   "cell_type": "code",
   "execution_count": 58,
   "id": "a4d94294",
   "metadata": {
    "scrolled": true
   },
   "outputs": [],
   "source": [
    "emo_combined_data.date = emo_combined_data.date.apply(lambda x : x[5:16])\n",
    "emo_combined_data['date']=emo_combined_data['date'].apply(lambda x:date_convert(x))"
   ]
  },
  {
   "cell_type": "code",
   "execution_count": 59,
   "id": "a3dcb772",
   "metadata": {},
   "outputs": [
    {
     "data": {
      "text/html": [
       "<div>\n",
       "<style scoped>\n",
       "    .dataframe tbody tr th:only-of-type {\n",
       "        vertical-align: middle;\n",
       "    }\n",
       "\n",
       "    .dataframe tbody tr th {\n",
       "        vertical-align: top;\n",
       "    }\n",
       "\n",
       "    .dataframe thead th {\n",
       "        text-align: right;\n",
       "    }\n",
       "</style>\n",
       "<table border=\"1\" class=\"dataframe\">\n",
       "  <thead>\n",
       "    <tr style=\"text-align: right;\">\n",
       "      <th></th>\n",
       "      <th>text</th>\n",
       "      <th>date</th>\n",
       "      <th>link</th>\n",
       "      <th>title</th>\n",
       "      <th>speaker</th>\n",
       "      <th>check_val</th>\n",
       "      <th>polarity</th>\n",
       "      <th>art_len</th>\n",
       "      <th>word_count</th>\n",
       "      <th>pol_tb</th>\n",
       "      <th>...</th>\n",
       "      <th>avgLexVal_anger</th>\n",
       "      <th>avgLexVal_disgust</th>\n",
       "      <th>avgLexVal_fear</th>\n",
       "      <th>avgLexVal_joy</th>\n",
       "      <th>avgLexVal_pos</th>\n",
       "      <th>avgLexVal_neg</th>\n",
       "      <th>avgLexVal_sad</th>\n",
       "      <th>avgLexVal_sur</th>\n",
       "      <th>overall_emo</th>\n",
       "      <th>overall_pol</th>\n",
       "    </tr>\n",
       "  </thead>\n",
       "  <tbody>\n",
       "    <tr>\n",
       "      <th>0</th>\n",
       "      <td>New COVID variant grow rapidly England Andrew ...</td>\n",
       "      <td>2020-12-31</td>\n",
       "      <td>https://www.imperial.ac.uk/news/211793/new-cov...</td>\n",
       "      <td>New COVID-19 variant growing rapidly in Englan...</td>\n",
       "      <td>UK</td>\n",
       "      <td>False</td>\n",
       "      <td>0.094128</td>\n",
       "      <td>4634</td>\n",
       "      <td>611</td>\n",
       "      <td>positive</td>\n",
       "      <td>...</td>\n",
       "      <td>0.016234</td>\n",
       "      <td>0.012987</td>\n",
       "      <td>0.077922</td>\n",
       "      <td>0.025974</td>\n",
       "      <td>0.185065</td>\n",
       "      <td>0.087662</td>\n",
       "      <td>0.032468</td>\n",
       "      <td>0.016234</td>\n",
       "      <td>avgLexVal_trust</td>\n",
       "      <td>avgLexVal_pos</td>\n",
       "    </tr>\n",
       "    <tr>\n",
       "      <th>1</th>\n",
       "      <td>Cookies GOVUK We use essential cooky make webs...</td>\n",
       "      <td>2020-12-31</td>\n",
       "      <td>https://www.gov.uk/guidance/if-you-need-to-sel...</td>\n",
       "      <td>[Withdrawn] If you need to self-isolate or can...</td>\n",
       "      <td>UK</td>\n",
       "      <td>False</td>\n",
       "      <td>0.024607</td>\n",
       "      <td>5227</td>\n",
       "      <td>708</td>\n",
       "      <td>positive</td>\n",
       "      <td>...</td>\n",
       "      <td>0.055138</td>\n",
       "      <td>0.052632</td>\n",
       "      <td>0.087719</td>\n",
       "      <td>0.040100</td>\n",
       "      <td>0.192982</td>\n",
       "      <td>0.145363</td>\n",
       "      <td>0.120301</td>\n",
       "      <td>0.045113</td>\n",
       "      <td>avgLexVal_trust</td>\n",
       "      <td>avgLexVal_pos</td>\n",
       "    </tr>\n",
       "    <tr>\n",
       "      <th>2</th>\n",
       "      <td>Covid Nailbiting week ahead NHS hospital Engla...</td>\n",
       "      <td>2021-01-01</td>\n",
       "      <td>https://www.bbc.com/news/uk-55505722</td>\n",
       "      <td>Covid: 'Nail-biting' weeks ahead for NHS, hosp...</td>\n",
       "      <td>UK</td>\n",
       "      <td>False</td>\n",
       "      <td>0.100675</td>\n",
       "      <td>5359</td>\n",
       "      <td>792</td>\n",
       "      <td>positive</td>\n",
       "      <td>...</td>\n",
       "      <td>0.049327</td>\n",
       "      <td>0.017937</td>\n",
       "      <td>0.107623</td>\n",
       "      <td>0.017937</td>\n",
       "      <td>0.147982</td>\n",
       "      <td>0.123318</td>\n",
       "      <td>0.067265</td>\n",
       "      <td>0.035874</td>\n",
       "      <td>avgLexVal_trust</td>\n",
       "      <td>avgLexVal_pos</td>\n",
       "    </tr>\n",
       "    <tr>\n",
       "      <th>3</th>\n",
       "      <td>Hospitals across UK must prepare Covid surge s...</td>\n",
       "      <td>2021-01-02</td>\n",
       "      <td>https://www.bbc.co.uk/news/uk-55514363</td>\n",
       "      <td>Hospitals across UK 'must prepare for Covid su...</td>\n",
       "      <td>UK</td>\n",
       "      <td>False</td>\n",
       "      <td>0.098411</td>\n",
       "      <td>3513</td>\n",
       "      <td>541</td>\n",
       "      <td>positive</td>\n",
       "      <td>...</td>\n",
       "      <td>0.061818</td>\n",
       "      <td>0.029091</td>\n",
       "      <td>0.170909</td>\n",
       "      <td>0.021818</td>\n",
       "      <td>0.178182</td>\n",
       "      <td>0.156364</td>\n",
       "      <td>0.127273</td>\n",
       "      <td>0.054545</td>\n",
       "      <td>avgLexVal_fear</td>\n",
       "      <td>avgLexVal_pos</td>\n",
       "    </tr>\n",
       "    <tr>\n",
       "      <th>4</th>\n",
       "      <td>Covid Scotland New strain virus accelerate spr...</td>\n",
       "      <td>2021-01-01</td>\n",
       "      <td>https://www.bbc.com/news/uk-scotland-55508141</td>\n",
       "      <td>Covid in Scotland: New strain of virus 'accele...</td>\n",
       "      <td>UK</td>\n",
       "      <td>False</td>\n",
       "      <td>0.114066</td>\n",
       "      <td>2925</td>\n",
       "      <td>445</td>\n",
       "      <td>positive</td>\n",
       "      <td>...</td>\n",
       "      <td>0.063025</td>\n",
       "      <td>0.016807</td>\n",
       "      <td>0.151261</td>\n",
       "      <td>0.025210</td>\n",
       "      <td>0.142857</td>\n",
       "      <td>0.184874</td>\n",
       "      <td>0.079832</td>\n",
       "      <td>0.025210</td>\n",
       "      <td>avgLexVal_fear</td>\n",
       "      <td>avgLexVal_neg</td>\n",
       "    </tr>\n",
       "  </tbody>\n",
       "</table>\n",
       "<p>5 rows × 25 columns</p>\n",
       "</div>"
      ],
      "text/plain": [
       "                                                text        date  \\\n",
       "0  New COVID variant grow rapidly England Andrew ...  2020-12-31   \n",
       "1  Cookies GOVUK We use essential cooky make webs...  2020-12-31   \n",
       "2  Covid Nailbiting week ahead NHS hospital Engla...  2021-01-01   \n",
       "3  Hospitals across UK must prepare Covid surge s...  2021-01-02   \n",
       "4  Covid Scotland New strain virus accelerate spr...  2021-01-01   \n",
       "\n",
       "                                                link  \\\n",
       "0  https://www.imperial.ac.uk/news/211793/new-cov...   \n",
       "1  https://www.gov.uk/guidance/if-you-need-to-sel...   \n",
       "2               https://www.bbc.com/news/uk-55505722   \n",
       "3             https://www.bbc.co.uk/news/uk-55514363   \n",
       "4      https://www.bbc.com/news/uk-scotland-55508141   \n",
       "\n",
       "                                               title speaker  check_val  \\\n",
       "0  New COVID-19 variant growing rapidly in Englan...      UK      False   \n",
       "1  [Withdrawn] If you need to self-isolate or can...      UK      False   \n",
       "2  Covid: 'Nail-biting' weeks ahead for NHS, hosp...      UK      False   \n",
       "3  Hospitals across UK 'must prepare for Covid su...      UK      False   \n",
       "4  Covid in Scotland: New strain of virus 'accele...      UK      False   \n",
       "\n",
       "   polarity  art_len  word_count    pol_tb  ...  avgLexVal_anger  \\\n",
       "0  0.094128     4634         611  positive  ...         0.016234   \n",
       "1  0.024607     5227         708  positive  ...         0.055138   \n",
       "2  0.100675     5359         792  positive  ...         0.049327   \n",
       "3  0.098411     3513         541  positive  ...         0.061818   \n",
       "4  0.114066     2925         445  positive  ...         0.063025   \n",
       "\n",
       "   avgLexVal_disgust  avgLexVal_fear  avgLexVal_joy  avgLexVal_pos  \\\n",
       "0           0.012987        0.077922       0.025974       0.185065   \n",
       "1           0.052632        0.087719       0.040100       0.192982   \n",
       "2           0.017937        0.107623       0.017937       0.147982   \n",
       "3           0.029091        0.170909       0.021818       0.178182   \n",
       "4           0.016807        0.151261       0.025210       0.142857   \n",
       "\n",
       "   avgLexVal_neg  avgLexVal_sad  avgLexVal_sur      overall_emo    overall_pol  \n",
       "0       0.087662       0.032468       0.016234  avgLexVal_trust  avgLexVal_pos  \n",
       "1       0.145363       0.120301       0.045113  avgLexVal_trust  avgLexVal_pos  \n",
       "2       0.123318       0.067265       0.035874  avgLexVal_trust  avgLexVal_pos  \n",
       "3       0.156364       0.127273       0.054545   avgLexVal_fear  avgLexVal_pos  \n",
       "4       0.184874       0.079832       0.025210   avgLexVal_fear  avgLexVal_neg  \n",
       "\n",
       "[5 rows x 25 columns]"
      ]
     },
     "execution_count": 59,
     "metadata": {},
     "output_type": "execute_result"
    }
   ],
   "source": [
    "emo_combined_data.head()"
   ]
  },
  {
   "cell_type": "code",
   "execution_count": null,
   "id": "33206a5e",
   "metadata": {},
   "outputs": [],
   "source": []
  },
  {
   "cell_type": "code",
   "execution_count": 60,
   "id": "252223e2",
   "metadata": {},
   "outputs": [],
   "source": [
    "def get_sig_corr():\n",
    "    sig_cor=[]\n",
    "    emo_list=['Anger','Anticipation','Disgust','Fear','Joy','Negative','Positive','Sadness','Surprise','Trust']\n",
    "    for j in emo_list:\n",
    "        emo_data=prep_emo_data(j,'2020-12-31','2021-12-14')\n",
    "    #print(emo_data.head())\n",
    "        covid_data=covid_data_prep()\n",
    "    #print(covid_data.head())\n",
    "        for i in range(0,15):\n",
    "            lst=data_merge(emo_data,covid_data,i)\n",
    "            cols=['date','avgLexVal','cc_after_lag']\n",
    "            shift_data=pd.DataFrame(lst,columns=cols)\n",
    "            \n",
    "            \n",
    "            corr,p_val=scipy.stats.pearsonr(shift_data.avgLexVal,shift_data.cc_after_lag)\n",
    "            if (p_val<0.05):\n",
    "                sig_cor.append([i,j,corr,p_val])\n",
    "                #plot_data(shift_data,i,j)\n",
    "    return(sig_cor)\n",
    "            \n",
    "    \n",
    "    \n",
    "    \n"
   ]
  },
  {
   "cell_type": "code",
   "execution_count": 61,
   "id": "a23837f2",
   "metadata": {
    "scrolled": false
   },
   "outputs": [],
   "source": [
    "sig_cor_data=get_sig_corr()\n"
   ]
  },
  {
   "cell_type": "code",
   "execution_count": 62,
   "id": "aef99154",
   "metadata": {},
   "outputs": [],
   "source": [
    "sig_cor_data=pd.DataFrame(sig_cor_data)\n",
    "sig_cor_data.columns=['lag','emotion','corr','p_value']"
   ]
  },
  {
   "cell_type": "code",
   "execution_count": 63,
   "id": "84b452b4",
   "metadata": {},
   "outputs": [
    {
     "data": {
      "text/html": [
       "<div>\n",
       "<style scoped>\n",
       "    .dataframe tbody tr th:only-of-type {\n",
       "        vertical-align: middle;\n",
       "    }\n",
       "\n",
       "    .dataframe tbody tr th {\n",
       "        vertical-align: top;\n",
       "    }\n",
       "\n",
       "    .dataframe thead th {\n",
       "        text-align: right;\n",
       "    }\n",
       "</style>\n",
       "<table border=\"1\" class=\"dataframe\">\n",
       "  <thead>\n",
       "    <tr style=\"text-align: right;\">\n",
       "      <th></th>\n",
       "      <th>lag</th>\n",
       "      <th>emotion</th>\n",
       "      <th>corr</th>\n",
       "      <th>p_value</th>\n",
       "    </tr>\n",
       "  </thead>\n",
       "  <tbody>\n",
       "    <tr>\n",
       "      <th>0</th>\n",
       "      <td>1</td>\n",
       "      <td>Anger</td>\n",
       "      <td>0.107743</td>\n",
       "      <td>0.044278</td>\n",
       "    </tr>\n",
       "    <tr>\n",
       "      <th>1</th>\n",
       "      <td>2</td>\n",
       "      <td>Anger</td>\n",
       "      <td>0.129404</td>\n",
       "      <td>0.015565</td>\n",
       "    </tr>\n",
       "    <tr>\n",
       "      <th>2</th>\n",
       "      <td>0</td>\n",
       "      <td>Disgust</td>\n",
       "      <td>-0.128580</td>\n",
       "      <td>0.016396</td>\n",
       "    </tr>\n",
       "    <tr>\n",
       "      <th>3</th>\n",
       "      <td>1</td>\n",
       "      <td>Disgust</td>\n",
       "      <td>-0.129604</td>\n",
       "      <td>0.015404</td>\n",
       "    </tr>\n",
       "    <tr>\n",
       "      <th>4</th>\n",
       "      <td>2</td>\n",
       "      <td>Disgust</td>\n",
       "      <td>-0.113802</td>\n",
       "      <td>0.033563</td>\n",
       "    </tr>\n",
       "  </tbody>\n",
       "</table>\n",
       "</div>"
      ],
      "text/plain": [
       "   lag  emotion      corr   p_value\n",
       "0    1    Anger  0.107743  0.044278\n",
       "1    2    Anger  0.129404  0.015565\n",
       "2    0  Disgust -0.128580  0.016396\n",
       "3    1  Disgust -0.129604  0.015404\n",
       "4    2  Disgust -0.113802  0.033563"
      ]
     },
     "execution_count": 63,
     "metadata": {},
     "output_type": "execute_result"
    }
   ],
   "source": [
    "sig_cor_data.head()"
   ]
  },
  {
   "cell_type": "code",
   "execution_count": 64,
   "id": "5939a948",
   "metadata": {},
   "outputs": [
    {
     "data": {
      "text/plain": [
       "(80, 4)"
      ]
     },
     "execution_count": 64,
     "metadata": {},
     "output_type": "execute_result"
    }
   ],
   "source": [
    "sig_cor_data.shape"
   ]
  },
  {
   "cell_type": "code",
   "execution_count": 65,
   "id": "3e4c1923",
   "metadata": {},
   "outputs": [
    {
     "data": {
      "text/plain": [
       "array(['Anger', 'Disgust', 'Fear', 'Joy', 'Negative', 'Positive',\n",
       "       'Sadness', 'Trust'], dtype=object)"
      ]
     },
     "execution_count": 65,
     "metadata": {},
     "output_type": "execute_result"
    }
   ],
   "source": [
    "sig_cor_data.emotion.unique()"
   ]
  },
  {
   "cell_type": "code",
   "execution_count": 66,
   "id": "1937c13b",
   "metadata": {},
   "outputs": [
    {
     "data": {
      "text/plain": [
       "array([ 1,  2,  0,  3,  4,  5,  6,  7,  8,  9, 10, 11, 12, 13, 14],\n",
       "      dtype=int64)"
      ]
     },
     "execution_count": 66,
     "metadata": {},
     "output_type": "execute_result"
    }
   ],
   "source": [
    "sig_cor_data.lag.unique()"
   ]
  },
  {
   "cell_type": "code",
   "execution_count": 67,
   "id": "bd51d0be",
   "metadata": {},
   "outputs": [
    {
     "name": "stdout",
     "output_type": "stream",
     "text": [
      "0 days 5 freq\n",
      "1 days 7 freq\n",
      "2 days 7 freq\n",
      "3 days 6 freq\n",
      "4 days 6 freq\n",
      "5 days 6 freq\n",
      "6 days 5 freq\n",
      "7 days 4 freq\n",
      "8 days 4 freq\n",
      "9 days 5 freq\n",
      "10 days 5 freq\n",
      "11 days 5 freq\n",
      "12 days 5 freq\n",
      "13 days 6 freq\n",
      "14 days 4 freq\n"
     ]
    }
   ],
   "source": [
    "value,counts=np.unique(sig_cor_data.lag,return_counts=True)\n",
    "for i in range(len(counts)):\n",
    "    print(str(value[i])+\" days\"+\" \"+str(counts[i])+ \" freq\")"
   ]
  },
  {
   "cell_type": "code",
   "execution_count": 68,
   "id": "12fd1c8b",
   "metadata": {},
   "outputs": [
    {
     "name": "stdout",
     "output_type": "stream",
     "text": [
      "Anger 2 freq\n",
      "Disgust 15 freq\n",
      "Fear 15 freq\n",
      "Joy 15 freq\n",
      "Negative 12 freq\n",
      "Positive 15 freq\n",
      "Sadness 5 freq\n",
      "Trust 1 freq\n"
     ]
    }
   ],
   "source": [
    "value,counts=np.unique(sig_cor_data.emotion,return_counts=True)\n",
    "for i in range(len(counts)):\n",
    "    print(str(value[i])+\" \"+str(counts[i])+ \" freq\")"
   ]
  },
  {
   "cell_type": "code",
   "execution_count": 69,
   "id": "0cf36a64",
   "metadata": {},
   "outputs": [
    {
     "data": {
      "image/png": "[encoded data removed]",
      "text/plain": [
       "<Figure size 1080x576 with 1 Axes>"
      ]
     },
     "metadata": {
      "needs_background": "light"
     },
     "output_type": "display_data"
    }
   ],
   "source": [
    "plt.figure(figsize=(15,8))\n",
    "ax = sns.boxplot(x='emotion', y='corr', data=sig_cor_data, color='#99c2a2')\n",
    "ax = sns.swarmplot(x='emotion', y='corr', data=sig_cor_data, color='#7d0013')\n",
    "plt.show()"
   ]
  },
  {
   "cell_type": "markdown",
   "id": "fe49411e",
   "metadata": {},
   "source": [
    "## KDE is plotted to check if the distribution of correlation column is normal (pre-requisite for ANOVA test)"
   ]
  },
  {
   "cell_type": "code",
   "execution_count": 70,
   "id": "13a4c04b",
   "metadata": {},
   "outputs": [
    {
     "data": {
      "text/plain": [
       "<AxesSubplot:ylabel='Density'>"
      ]
     },
     "execution_count": 70,
     "metadata": {},
     "output_type": "execute_result"
    },
    {
     "data": {
      "image/png": "[encoded data removed]",
      "text/plain": [
       "<Figure size 432x288 with 1 Axes>"
      ]
     },
     "metadata": {
      "needs_background": "light"
     },
     "output_type": "display_data"
    }
   ],
   "source": [
    "sig_cor_data['corr'].plot.kde()"
   ]
  },
  {
   "cell_type": "code",
   "execution_count": 71,
   "id": "efa34c2a",
   "metadata": {},
   "outputs": [
    {
     "data": {
      "text/html": [
       "<div>\n",
       "<style scoped>\n",
       "    .dataframe tbody tr th:only-of-type {\n",
       "        vertical-align: middle;\n",
       "    }\n",
       "\n",
       "    .dataframe tbody tr th {\n",
       "        vertical-align: top;\n",
       "    }\n",
       "\n",
       "    .dataframe thead th {\n",
       "        text-align: right;\n",
       "    }\n",
       "</style>\n",
       "<table border=\"1\" class=\"dataframe\">\n",
       "  <thead>\n",
       "    <tr style=\"text-align: right;\">\n",
       "      <th></th>\n",
       "      <th>lag</th>\n",
       "      <th>emotion</th>\n",
       "      <th>corr</th>\n",
       "      <th>p_value</th>\n",
       "    </tr>\n",
       "  </thead>\n",
       "  <tbody>\n",
       "  </tbody>\n",
       "</table>\n",
       "</div>"
      ],
      "text/plain": [
       "Empty DataFrame\n",
       "Columns: [lag, emotion, corr, p_value]\n",
       "Index: []"
      ]
     },
     "execution_count": 71,
     "metadata": {},
     "output_type": "execute_result"
    }
   ],
   "source": [
    "sig_cor_data[sig_cor_data['corr']==0]"
   ]
  },
  {
   "cell_type": "code",
   "execution_count": 72,
   "id": "c4618ba4",
   "metadata": {},
   "outputs": [
    {
     "data": {
      "text/plain": [
       "<AxesSubplot:ylabel='Density'>"
      ]
     },
     "execution_count": 72,
     "metadata": {},
     "output_type": "execute_result"
    },
    {
     "data": {
      "image/png": "[encoded data removed]",
      "text/plain": [
       "<Figure size 432x288 with 1 Axes>"
      ]
     },
     "metadata": {
      "needs_background": "light"
     },
     "output_type": "display_data"
    }
   ],
   "source": [
    "(sig_cor_data['corr']*sig_cor_data['corr']).plot.kde()"
   ]
  },
  {
   "cell_type": "code",
   "execution_count": 73,
   "id": "5f219b33",
   "metadata": {},
   "outputs": [],
   "source": [
    "#The above plot seems quite normal, hence the test should be valid for the square value of correlation"
   ]
  },
  {
   "cell_type": "code",
   "execution_count": 74,
   "id": "eaa5557e",
   "metadata": {},
   "outputs": [
    {
     "data": {
      "text/html": [
       "<div>\n",
       "<style scoped>\n",
       "    .dataframe tbody tr th:only-of-type {\n",
       "        vertical-align: middle;\n",
       "    }\n",
       "\n",
       "    .dataframe tbody tr th {\n",
       "        vertical-align: top;\n",
       "    }\n",
       "\n",
       "    .dataframe thead th {\n",
       "        text-align: right;\n",
       "    }\n",
       "</style>\n",
       "<table border=\"1\" class=\"dataframe\">\n",
       "  <thead>\n",
       "    <tr style=\"text-align: right;\">\n",
       "      <th></th>\n",
       "      <th>lag</th>\n",
       "      <th>emotion</th>\n",
       "      <th>corr</th>\n",
       "      <th>p_value</th>\n",
       "      <th>corr_sq</th>\n",
       "    </tr>\n",
       "  </thead>\n",
       "  <tbody>\n",
       "    <tr>\n",
       "      <th>0</th>\n",
       "      <td>1</td>\n",
       "      <td>Anger</td>\n",
       "      <td>0.107743</td>\n",
       "      <td>0.044278</td>\n",
       "      <td>0.011609</td>\n",
       "    </tr>\n",
       "    <tr>\n",
       "      <th>1</th>\n",
       "      <td>2</td>\n",
       "      <td>Anger</td>\n",
       "      <td>0.129404</td>\n",
       "      <td>0.015565</td>\n",
       "      <td>0.016745</td>\n",
       "    </tr>\n",
       "    <tr>\n",
       "      <th>2</th>\n",
       "      <td>0</td>\n",
       "      <td>Disgust</td>\n",
       "      <td>-0.128580</td>\n",
       "      <td>0.016396</td>\n",
       "      <td>0.016533</td>\n",
       "    </tr>\n",
       "    <tr>\n",
       "      <th>3</th>\n",
       "      <td>1</td>\n",
       "      <td>Disgust</td>\n",
       "      <td>-0.129604</td>\n",
       "      <td>0.015404</td>\n",
       "      <td>0.016797</td>\n",
       "    </tr>\n",
       "    <tr>\n",
       "      <th>4</th>\n",
       "      <td>2</td>\n",
       "      <td>Disgust</td>\n",
       "      <td>-0.113802</td>\n",
       "      <td>0.033563</td>\n",
       "      <td>0.012951</td>\n",
       "    </tr>\n",
       "  </tbody>\n",
       "</table>\n",
       "</div>"
      ],
      "text/plain": [
       "   lag  emotion      corr   p_value   corr_sq\n",
       "0    1    Anger  0.107743  0.044278  0.011609\n",
       "1    2    Anger  0.129404  0.015565  0.016745\n",
       "2    0  Disgust -0.128580  0.016396  0.016533\n",
       "3    1  Disgust -0.129604  0.015404  0.016797\n",
       "4    2  Disgust -0.113802  0.033563  0.012951"
      ]
     },
     "execution_count": 74,
     "metadata": {},
     "output_type": "execute_result"
    }
   ],
   "source": [
    "\n",
    "sig_cor_data['corr_sq']=sig_cor_data['corr']*sig_cor_data['corr']\n",
    "sig_cor_data.head()"
   ]
  },
  {
   "cell_type": "code",
   "execution_count": 75,
   "id": "28806c84",
   "metadata": {
    "scrolled": true
   },
   "outputs": [
    {
     "data": {
      "text/html": [
       "<div>\n",
       "<style scoped>\n",
       "    .dataframe tbody tr th:only-of-type {\n",
       "        vertical-align: middle;\n",
       "    }\n",
       "\n",
       "    .dataframe tbody tr th {\n",
       "        vertical-align: top;\n",
       "    }\n",
       "\n",
       "    .dataframe thead th {\n",
       "        text-align: right;\n",
       "    }\n",
       "</style>\n",
       "<table border=\"1\" class=\"dataframe\">\n",
       "  <thead>\n",
       "    <tr style=\"text-align: right;\">\n",
       "      <th></th>\n",
       "      <th>sum_sq</th>\n",
       "      <th>df</th>\n",
       "      <th>F</th>\n",
       "      <th>PR(&gt;F)</th>\n",
       "    </tr>\n",
       "  </thead>\n",
       "  <tbody>\n",
       "    <tr>\n",
       "      <th>C(emotion)</th>\n",
       "      <td>0.125560</td>\n",
       "      <td>7.0</td>\n",
       "      <td>97.409865</td>\n",
       "      <td>3.944385e-34</td>\n",
       "    </tr>\n",
       "    <tr>\n",
       "      <th>Residual</th>\n",
       "      <td>0.013258</td>\n",
       "      <td>72.0</td>\n",
       "      <td>NaN</td>\n",
       "      <td>NaN</td>\n",
       "    </tr>\n",
       "  </tbody>\n",
       "</table>\n",
       "</div>"
      ],
      "text/plain": [
       "              sum_sq    df          F        PR(>F)\n",
       "C(emotion)  0.125560   7.0  97.409865  3.944385e-34\n",
       "Residual    0.013258  72.0        NaN           NaN"
      ]
     },
     "execution_count": 75,
     "metadata": {},
     "output_type": "execute_result"
    }
   ],
   "source": [
    "model = ols('(corr_sq) ~ C(emotion)', data=sig_cor_data).fit()\n",
    "anova_table = sm.stats.anova_lm(model, typ=2)\n",
    "anova_table"
   ]
  },
  {
   "cell_type": "code",
   "execution_count": 76,
   "id": "47a0782f",
   "metadata": {
    "scrolled": true
   },
   "outputs": [
    {
     "name": "stdout",
     "output_type": "stream",
     "text": [
      "0 days 5 freq\n",
      "1 days 7 freq\n",
      "2 days 7 freq\n",
      "3 days 6 freq\n",
      "4 days 6 freq\n",
      "5 days 6 freq\n",
      "6 days 5 freq\n",
      "7 days 4 freq\n",
      "8 days 4 freq\n",
      "9 days 5 freq\n",
      "10 days 5 freq\n",
      "11 days 5 freq\n",
      "12 days 5 freq\n",
      "13 days 6 freq\n",
      "14 days 4 freq\n"
     ]
    }
   ],
   "source": [
    "value,counts=np.unique(sig_cor_data.lag,return_counts=True)\n",
    "for i in range(len(counts)):\n",
    "    print(str(value[i])+\" days\"+\" \"+str(counts[i])+ \" freq\")"
   ]
  },
  {
   "cell_type": "code",
   "execution_count": 82,
   "id": "fbaac9f3",
   "metadata": {},
   "outputs": [
    {
     "data": {
      "text/html": [
       "<div>\n",
       "<style scoped>\n",
       "    .dataframe tbody tr th:only-of-type {\n",
       "        vertical-align: middle;\n",
       "    }\n",
       "\n",
       "    .dataframe tbody tr th {\n",
       "        vertical-align: top;\n",
       "    }\n",
       "\n",
       "    .dataframe thead th {\n",
       "        text-align: right;\n",
       "    }\n",
       "</style>\n",
       "<table border=\"1\" class=\"dataframe\">\n",
       "  <thead>\n",
       "    <tr style=\"text-align: right;\">\n",
       "      <th></th>\n",
       "      <th>sum_sq</th>\n",
       "      <th>df</th>\n",
       "      <th>F</th>\n",
       "      <th>PR(&gt;F)</th>\n",
       "    </tr>\n",
       "  </thead>\n",
       "  <tbody>\n",
       "    <tr>\n",
       "      <th>C(lag)</th>\n",
       "      <td>0.004487</td>\n",
       "      <td>14.0</td>\n",
       "      <td>0.155095</td>\n",
       "      <td>0.99979</td>\n",
       "    </tr>\n",
       "    <tr>\n",
       "      <th>Residual</th>\n",
       "      <td>0.134331</td>\n",
       "      <td>65.0</td>\n",
       "      <td>NaN</td>\n",
       "      <td>NaN</td>\n",
       "    </tr>\n",
       "  </tbody>\n",
       "</table>\n",
       "</div>"
      ],
      "text/plain": [
       "            sum_sq    df         F   PR(>F)\n",
       "C(lag)    0.004487  14.0  0.155095  0.99979\n",
       "Residual  0.134331  65.0       NaN      NaN"
      ]
     },
     "execution_count": 82,
     "metadata": {},
     "output_type": "execute_result"
    }
   ],
   "source": [
    "model = ols('(corr_sq) ~ C(lag)', data=sig_cor_data).fit()\n",
    "anova_table = sm.stats.anova_lm(model, typ=2)\n",
    "anova_table"
   ]
  },
  {
   "cell_type": "code",
   "execution_count": 77,
   "id": "a56a74b3",
   "metadata": {},
   "outputs": [
    {
     "name": "stdout",
     "output_type": "stream",
     "text": [
      "Anger days 2 freq\n",
      "Disgust days 15 freq\n",
      "Fear days 15 freq\n",
      "Joy days 15 freq\n",
      "Negative days 12 freq\n",
      "Positive days 15 freq\n",
      "Sadness days 5 freq\n",
      "Trust days 1 freq\n"
     ]
    }
   ],
   "source": [
    "value,counts=np.unique(sig_cor_data.emotion,return_counts=True)\n",
    "for i in range(len(counts)):\n",
    "    print(str(value[i])+\" days\"+\" \"+str(counts[i])+ \" freq\")"
   ]
  },
  {
   "cell_type": "code",
   "execution_count": 78,
   "id": "09f4633b",
   "metadata": {},
   "outputs": [
    {
     "data": {
      "image/png": "[encoded data removed]",
      "text/plain": [
       "<Figure size 1080x576 with 1 Axes>"
      ]
     },
     "metadata": {
      "needs_background": "light"
     },
     "output_type": "display_data"
    }
   ],
   "source": [
    "plt.figure(figsize=(15,8))\n",
    "ax = sns.boxplot(x='lag', y='corr', data=sig_cor_data, color='#99c2a2')\n",
    "ax = sns.swarmplot(x='lag', y='corr', data=sig_cor_data, color='#7d0013')\n",
    "plt.show()"
   ]
  },
  {
   "cell_type": "code",
   "execution_count": 79,
   "id": "0618d5b2",
   "metadata": {},
   "outputs": [
    {
     "data": {
      "text/plain": [
       "4.363753401602799"
      ]
     },
     "execution_count": 79,
     "metadata": {},
     "output_type": "execute_result"
    }
   ],
   "source": [
    "np.std(sig_cor_data['lag'])"
   ]
  },
  {
   "cell_type": "markdown",
   "id": "bc90d9ef",
   "metadata": {},
   "source": [
    "The lag is an ordinal variable, hence for the hypothesis test, spearman test is done"
   ]
  },
  {
   "cell_type": "code",
   "execution_count": 80,
   "id": "ba0fc0f8",
   "metadata": {},
   "outputs": [
    {
     "name": "stdout",
     "output_type": "stream",
     "text": [
      "-0.17065567617311833 0.1301542791432275\n"
     ]
    }
   ],
   "source": [
    "corr,p_val=scipy.stats.spearmanr(sig_cor_data['corr'],sig_cor_data['lag'])\n",
    "print(corr,p_val)"
   ]
  },
  {
   "cell_type": "code",
   "execution_count": 81,
   "id": "7ced91a7",
   "metadata": {},
   "outputs": [],
   "source": [
    "sig_cor_data.to_csv(r\"C:\\Users\\WELCOME\\Downloads\\data\\correlation.csv\",index=False)"
   ]
  },
  {
   "cell_type": "code",
   "execution_count": null,
   "id": "ba35d79b",
   "metadata": {},
   "outputs": [],
   "source": []
  }
 ],
 "metadata": {
  "kernelspec": {
   "display_name": "Python 3 (ipykernel)",
   "language": "python",
   "name": "python3"
  },
  "language_info": {
   "codemirror_mode": {
    "name": "ipython",
    "version": 3
   },
   "file_extension": ".py",
   "mimetype": "text/x-python",
   "name": "python",
   "nbconvert_exporter": "python",
   "pygments_lexer": "ipython3",
   "version": "3.9.12"
  }
 },
 "nbformat": 4,
 "nbformat_minor": 5
}
