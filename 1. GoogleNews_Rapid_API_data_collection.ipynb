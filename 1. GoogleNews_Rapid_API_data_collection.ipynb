{
 "cells": [
  {
   "cell_type": "code",
   "execution_count": 1,
   "id": "47e1720e",
   "metadata": {
    "id": "47e1720e"
   },
   "outputs": [],
   "source": [
    "import pandas as pd\n",
    "import numpy as np\n",
    "import requests\n",
    "from bs4 import BeautifulSoup\n",
    "import warnings\n",
    "warnings.filterwarnings('ignore')\n",
    "dataset=pd.DataFrame()\n",
    "import time\n",
    "from datetime import datetime"
   ]
  },
  {
   "cell_type": "code",
   "execution_count": 2,
   "id": "6b65efb8",
   "metadata": {
    "id": "6b65efb8"
   },
   "outputs": [],
   "source": [
    "def get_titles(keyword,from_date,to_date):\n",
    "    url = \"https://google-news.p.rapidapi.com/v1/search\"\n",
    "    querystring = {\"q\":keyword,\"country\":[\"US\"],\"from\":from_date,\"to\":to_date,\"lang\":\"en\"}\n",
    "    headers = {\n",
    "\t\"X-RapidAPI-Key\": \"646673e5c8mshed070377adc23e2p1c6acbjsn2866bd2a0a85\",\n",
    "\t\"X-RapidAPI-Host\": \"google-news.p.rapidapi.com\"}\n",
    "    response = requests.request(\"GET\", url, headers=headers, params=querystring)\n",
    "    return(response)"
   ]
  },
  {
   "cell_type": "code",
   "execution_count": 3,
   "id": "40c2a16a",
   "metadata": {
    "id": "40c2a16a"
   },
   "outputs": [],
   "source": [
    "def get_text(articles):\n",
    "    news_catcher = pd.DataFrame(columns = [\"news_text\"])\n",
    "    for index, row in articles.iterrows():\n",
    "        try:\n",
    "          r = requests.get(row['link'],verify=True)\n",
    "          r.raise_for_status()\n",
    "        except requests.exceptions.HTTPError as err:\n",
    "          \n",
    "          print(\"Connection refused by the server..\")\n",
    "          print(\"Let me sleep for 2 seconds\")\n",
    "          print(\"ZZzzzz...\")\n",
    "          time.sleep(3)\n",
    "          print(\"Was a nice sleep, now let me continue...\")\n",
    "          continue\n",
    "       \n",
    "        except requests.exceptions.ConnectionError as errc:\n",
    "          print (\"Error Connecting:\",errc)\n",
    "          print(\"Connection refused by the server..\")\n",
    "          \n",
    "          print(\"Let me sleep for 2 seconds\")\n",
    "          print(\"ZZzzzz...\")\n",
    "          time.sleep(3)\n",
    "          print(\"Was a nice sleep, now let me continue...\")\n",
    "          continue\n",
    "        except requests.exceptions.Timeout as errt:\n",
    "          print (\"Timeout Error:\",errt)\n",
    "          print(\"Connection refused by the server..\")\n",
    "          \n",
    "          print(\"Let me sleep for 2 seconds\")\n",
    "          print(\"ZZzzzz...\")\n",
    "          time.sleep(3)\n",
    "          print(\"Was a nice sleep, now let me continue...\")\n",
    "          continue\n",
    "        except requests.exceptions.RequestException as err:\n",
    "          print (\"OOps: Something Else\",err)\n",
    "          print(\"Connection refused by the server..\")\n",
    "          \n",
    "          print(\"Let me sleep for 2 seconds\")\n",
    "          print(\"ZZzzzz...\")\n",
    "          time.sleep(3)\n",
    "          print(\"Was a nice sleep, now let me continue...\")\n",
    "          \n",
    "          continue\n",
    "        \n",
    "        news = BeautifulSoup(r.content)\n",
    "        news_body = news.find_all(['p','h1','h2'])\n",
    "        \n",
    "        #news_subhead = news.find_all('h2')  \n",
    "        #print(news_body)\n",
    "        text = ''\n",
    "        for j in range(len(news_body)):\n",
    "            news_body[j].get_text()\n",
    "            text = text + \" \" + news_body[j].get_text()\n",
    "        news_catcher = news_catcher.append({\"title\":row['title'],\"link\":row['link'],\"date\":row['date'],\"news_text\":text}, ignore_index=True)\n",
    "        \n",
    "    return(news_catcher)"
   ]
  },
  {
   "cell_type": "code",
   "execution_count": 4,
   "id": "008dc9ae",
   "metadata": {
    "id": "008dc9ae"
   },
   "outputs": [],
   "source": [
    "def get_data():\n",
    "  dataset=pd.DataFrame()\n",
    "  \n",
    "  days=pd.Series(pd.date_range(\"2022-01-03\",periods=30, freq='3D'))\n",
    "  for k in range(8):\n",
    "        print(\"days iteration\")\n",
    "        from_date=days[k].date()\n",
    "        print(from_date)\n",
    "        to_date=days[k+1].date()\n",
    "        print(to_date)\n",
    "        response=get_titles('covid',from_date,to_date).json()\n",
    "        print(type(response))\n",
    "        articles=pd.DataFrame()\n",
    "        for i in response['articles']:\n",
    "            articles = articles.append({\"title\":i['title'],\"link\":i['link'],\"date\":i['published']}, ignore_index=True)\n",
    "        articles=pd.DataFrame(articles)\n",
    "        print(articles.shape)\n",
    "        art_text=get_text(articles)\n",
    "        dataset=pd.concat([dataset,art_text],axis=0)\n",
    "        print(dataset.shape)\n",
    "  return (dataset)\n",
    "            \n",
    "            \n",
    "            \n",
    "            \n",
    "#print(days[k])\n",
    "\n"
   ]
  },
  {
   "cell_type": "code",
   "execution_count": 5,
   "id": "073bec5e",
   "metadata": {},
   "outputs": [],
   "source": [
    "#pd.Series(pd.date_range(\"2022-01-03\",periods=30, freq='3D'))"
   ]
  },
  {
   "cell_type": "code",
   "execution_count": null,
   "id": "91b83196",
   "metadata": {},
   "outputs": [
    {
     "name": "stdout",
     "output_type": "stream",
     "text": [
      "days iteration\n",
      "2022-01-03\n",
      "2022-01-06\n",
      "<class 'dict'>\n",
      "(100, 3)\n",
      "Connection refused by the server..\n",
      "Let me sleep for 2 seconds\n",
      "ZZzzzz...\n",
      "Was a nice sleep, now let me continue...\n"
     ]
    }
   ],
   "source": [
    "data=get_data()"
   ]
  },
  {
   "cell_type": "code",
   "execution_count": 11,
   "id": "16050b9b",
   "metadata": {},
   "outputs": [],
   "source": [
    "#pd.Series(pd.date_range(\"2020-12-31\",periods=117, freq='3D'))"
   ]
  },
  {
   "cell_type": "code",
   "execution_count": 22,
   "id": "8589604f",
   "metadata": {},
   "outputs": [
    {
     "data": {
      "text/plain": [
       "(109, 4)"
      ]
     },
     "execution_count": 22,
     "metadata": {},
     "output_type": "execute_result"
    }
   ],
   "source": [
    "#data_27july_to_30july.shape"
   ]
  },
  {
   "cell_type": "code",
   "execution_count": 21,
   "id": "aebe5c3b",
   "metadata": {},
   "outputs": [],
   "source": [
    "#data_27july_to_30july.to_csv(\"data_27july_to_30july.csv\")"
   ]
  },
  {
   "cell_type": "code",
   "execution_count": 12,
   "id": "d9aa2577",
   "metadata": {},
   "outputs": [
    {
     "name": "stdout",
     "output_type": "stream",
     "text": [
      "0\n",
      "1\n",
      "2\n",
      "3\n",
      "4\n",
      "5\n",
      "6\n",
      "7\n",
      "8\n",
      "9\n",
      "10\n",
      "11\n",
      "12\n",
      "13\n",
      "14\n",
      "15\n",
      "16\n",
      "17\n",
      "18\n",
      "19\n",
      "20\n",
      "21\n",
      "22\n",
      "23\n",
      "24\n",
      "25\n",
      "26\n",
      "27\n"
     ]
    }
   ],
   "source": [
    "#for i in range(28):\n",
    "    #print(i)"
   ]
  },
  {
   "cell_type": "code",
   "execution_count": 192,
   "id": "0c014a56",
   "metadata": {
    "id": "0c014a56"
   },
   "outputs": [],
   "source": [
    "response=get_titles('covid','2020-12-31','2021-12-14' ).json()"
   ]
  },
  {
   "cell_type": "code",
   "execution_count": 193,
   "id": "d74b8778",
   "metadata": {
    "colab": {
     "base_uri": "https://localhost:8080/"
    },
    "id": "d74b8778",
    "outputId": "8116f395-2ab3-4a10-e039-640c51b206b6"
   },
   "outputs": [
    {
     "data": {
      "text/plain": [
       "29"
      ]
     },
     "execution_count": 193,
     "metadata": {},
     "output_type": "execute_result"
    }
   ],
   "source": [
    "links=pd.DataFrame()\n",
    "for i in response['articles']:\n",
    "    links = links.append({\"title\":i['title'],\"link\":i['link'],\"date\":i['published']}, ignore_index=True)\n",
    "len(links)"
   ]
  },
  {
   "cell_type": "code",
   "execution_count": 185,
   "id": "fea8097f",
   "metadata": {
    "colab": {
     "base_uri": "https://localhost:8080/"
    },
    "id": "fea8097f",
    "outputId": "4c66d66d-7613-483d-a662-8e66cd3d7dca",
    "scrolled": true
   },
   "outputs": [
    {
     "name": "stdout",
     "output_type": "stream",
     "text": [
      "Connection refused by the server..\n",
      "Let me sleep for 4 seconds\n",
      "ZZzzzz...\n",
      "Was a nice sleep, now let me continue...\n",
      "Connection refused by the server..\n",
      "Let me sleep for 4 seconds\n",
      "ZZzzzz...\n",
      "Was a nice sleep, now let me continue...\n",
      "Connection refused by the server..\n",
      "Let me sleep for 4 seconds\n",
      "ZZzzzz...\n",
      "Was a nice sleep, now let me continue...\n",
      "Connection refused by the server..\n",
      "Let me sleep for 4 seconds\n",
      "ZZzzzz...\n",
      "Was a nice sleep, now let me continue...\n",
      "Connection refused by the server..\n",
      "Let me sleep for 4 seconds\n",
      "ZZzzzz...\n",
      "Was a nice sleep, now let me continue...\n",
      "Connection refused by the server..\n",
      "Let me sleep for 4 seconds\n",
      "ZZzzzz...\n",
      "Was a nice sleep, now let me continue...\n",
      "Connection refused by the server..\n",
      "Let me sleep for 4 seconds\n",
      "ZZzzzz...\n",
      "Was a nice sleep, now let me continue...\n",
      "Error Connecting: HTTPSConnectionPool(host='www.leeds.ac.uk', port=443): Max retries exceeded with url: /news-health/news/article/4755/dramatic-changes-to-radiotherapy-treatments-due-to-covid-19 (Caused by SSLError(SSLCertVerificationError(1, '[SSL: CERTIFICATE_VERIFY_FAILED] certificate verify failed: unable to get local issuer certificate (_ssl.c:1091)')))\n",
      "Connection refused by the server..\n",
      "Let me sleep for 4 seconds\n",
      "ZZzzzz...\n",
      "Was a nice sleep, now let me continue...\n"
     ]
    }
   ],
   "source": [
    "data=get_text(links)\n"
   ]
  },
  {
   "cell_type": "code",
   "execution_count": 186,
   "id": "9e2edee6",
   "metadata": {
    "colab": {
     "base_uri": "https://localhost:8080/"
    },
    "id": "9e2edee6",
    "outputId": "0cd171cd-970c-449d-a21c-97b8994f7978"
   },
   "outputs": [
    {
     "name": "stdout",
     "output_type": "stream",
     "text": [
      "92\n",
      "100\n"
     ]
    }
   ],
   "source": [
    "\n",
    "print(len(data))\n",
    "print(len(links))\n",
    "dataset=pd.concat([dataset,data],axis=0)"
   ]
  },
  {
   "cell_type": "code",
   "execution_count": 187,
   "id": "91b406ba",
   "metadata": {
    "colab": {
     "base_uri": "https://localhost:8080/"
    },
    "id": "91b406ba",
    "outputId": "23ec46fa-142a-421d-bcc8-ec14df35fe28"
   },
   "outputs": [
    {
     "data": {
      "text/plain": [
       "413"
      ]
     },
     "execution_count": 187,
     "metadata": {},
     "output_type": "execute_result"
    }
   ],
   "source": [
    "len(dataset)"
   ]
  },
  {
   "cell_type": "code",
   "execution_count": 175,
   "id": "PUVZc_FB5fBd",
   "metadata": {
    "colab": {
     "base_uri": "https://localhost:8080/",
     "height": 633
    },
    "id": "PUVZc_FB5fBd",
    "outputId": "ae0e4be2-f0ad-4616-e6ea-dde555411b10"
   },
   "outputs": [
    {
     "data": {
      "text/html": [
       "\n",
       "  <div id=\"df-4be8bcbb-62a5-47fa-8e8c-553235dd7f9e\">\n",
       "    <div class=\"colab-df-container\">\n",
       "      <div>\n",
       "<style scoped>\n",
       "    .dataframe tbody tr th:only-of-type {\n",
       "        vertical-align: middle;\n",
       "    }\n",
       "\n",
       "    .dataframe tbody tr th {\n",
       "        vertical-align: top;\n",
       "    }\n",
       "\n",
       "    .dataframe thead th {\n",
       "        text-align: right;\n",
       "    }\n",
       "</style>\n",
       "<table border=\"1\" class=\"dataframe\">\n",
       "  <thead>\n",
       "    <tr style=\"text-align: right;\">\n",
       "      <th></th>\n",
       "      <th>news_text</th>\n",
       "      <th>date</th>\n",
       "      <th>link</th>\n",
       "      <th>title</th>\n",
       "    </tr>\n",
       "  </thead>\n",
       "  <tbody>\n",
       "    <tr>\n",
       "      <th>0</th>\n",
       "      <td>Cookies on GOV.UK We use some essential cooki...</td>\n",
       "      <td>Mon, 04 Jan 2021 08:00:00 GMT</td>\n",
       "      <td>https://www.gov.uk/government/news/first-peopl...</td>\n",
       "      <td>First people to receive Oxford University/Astr...</td>\n",
       "    </tr>\n",
       "    <tr>\n",
       "      <th>1</th>\n",
       "      <td>Cookies on GOV.UK We use some essential cooki...</td>\n",
       "      <td>Mon, 04 Jan 2021 08:00:00 GMT</td>\n",
       "      <td>https://www.gov.uk/government/news/covid-19-al...</td>\n",
       "      <td>COVID-19 alert level: update from the UK Chief...</td>\n",
       "    </tr>\n",
       "    <tr>\n",
       "      <th>2</th>\n",
       "      <td>Cookies on GOV.UK We use some essential cooki...</td>\n",
       "      <td>Mon, 04 Jan 2021 08:00:00 GMT</td>\n",
       "      <td>https://www.gov.uk/government/news/over-5000-a...</td>\n",
       "      <td>Over 5000 armed forces deployed in support of ...</td>\n",
       "    </tr>\n",
       "    <tr>\n",
       "      <th>3</th>\n",
       "      <td>Covid: 'Nail-biting' weeks ahead for NHS, hos...</td>\n",
       "      <td>Fri, 01 Jan 2021 08:00:00 GMT</td>\n",
       "      <td>https://www.bbc.com/news/uk-55505722</td>\n",
       "      <td>Covid: 'Nail-biting' weeks ahead for NHS, hosp...</td>\n",
       "    </tr>\n",
       "    <tr>\n",
       "      <th>4</th>\n",
       "      <td>Hospitals across UK 'must prepare for Covid s...</td>\n",
       "      <td>Sat, 02 Jan 2021 08:00:00 GMT</td>\n",
       "      <td>https://www.bbc.co.uk/news/uk-55514363</td>\n",
       "      <td>Hospitals across UK 'must prepare for Covid su...</td>\n",
       "    </tr>\n",
       "    <tr>\n",
       "      <th>...</th>\n",
       "      <td>...</td>\n",
       "      <td>...</td>\n",
       "      <td>...</td>\n",
       "      <td>...</td>\n",
       "    </tr>\n",
       "    <tr>\n",
       "      <th>69</th>\n",
       "      <td>RNAS Culdrose explains how it's combating Cov...</td>\n",
       "      <td>Wed, 13 Jan 2021 08:00:00 GMT</td>\n",
       "      <td>https://www.cornwalllive.com/news/cornwall-new...</td>\n",
       "      <td>RNAS Culdrose explains how it's combating Covi...</td>\n",
       "    </tr>\n",
       "    <tr>\n",
       "      <th>70</th>\n",
       "      <td>COVID-19: 2.6 million jabs given to 2.3 milli...</td>\n",
       "      <td>Mon, 11 Jan 2021 08:00:00 GMT</td>\n",
       "      <td>https://news.sky.com/story/covid-19-2-6-millio...</td>\n",
       "      <td>COVID-19: 2.6 million jabs given to 2.3 millio...</td>\n",
       "    </tr>\n",
       "    <tr>\n",
       "      <th>71</th>\n",
       "      <td>Covid-19: Surge leaves key hospital services ...</td>\n",
       "      <td>Thu, 14 Jan 2021 08:00:00 GMT</td>\n",
       "      <td>https://www.bbc.com/news/health-55575112</td>\n",
       "      <td>Covid-19: Surge leaves key hospital services '...</td>\n",
       "    </tr>\n",
       "    <tr>\n",
       "      <th>72</th>\n",
       "      <td>Coronavirus latest: Healthy gut bacteria coul...</td>\n",
       "      <td>Mon, 11 Jan 2021 08:00:00 GMT</td>\n",
       "      <td>https://inews.co.uk/news/health/coronavirus-la...</td>\n",
       "      <td>Healthy gut bacteria could help prevent severe...</td>\n",
       "    </tr>\n",
       "    <tr>\n",
       "      <th>73</th>\n",
       "      <td>Intended for healthcare professionals Search ...</td>\n",
       "      <td>Mon, 11 Jan 2021 08:00:00 GMT</td>\n",
       "      <td>https://www.bmj.com/content/372/bmj.n74</td>\n",
       "      <td>Covid-19: UK approves Moderna vaccine to be gi...</td>\n",
       "    </tr>\n",
       "  </tbody>\n",
       "</table>\n",
       "<p>217 rows × 4 columns</p>\n",
       "</div>\n",
       "      <button class=\"colab-df-convert\" onclick=\"convertToInteractive('df-4be8bcbb-62a5-47fa-8e8c-553235dd7f9e')\"\n",
       "              title=\"Convert this dataframe to an interactive table.\"\n",
       "              style=\"display:none;\">\n",
       "        \n",
       "  <svg xmlns=\"http://www.w3.org/2000/svg\" height=\"24px\"viewBox=\"0 0 24 24\"\n",
       "       width=\"24px\">\n",
       "    <path d=\"M0 0h24v24H0V0z\" fill=\"none\"/>\n",
       "    <path d=\"M18.56 5.44l.94 2.06.94-2.06 2.06-.94-2.06-.94-.94-2.06-.94 2.06-2.06.94zm-11 1L8.5 8.5l.94-2.06 2.06-.94-2.06-.94L8.5 2.5l-.94 2.06-2.06.94zm10 10l.94 2.06.94-2.06 2.06-.94-2.06-.94-.94-2.06-.94 2.06-2.06.94z\"/><path d=\"M17.41 7.96l-1.37-1.37c-.4-.4-.92-.59-1.43-.59-.52 0-1.04.2-1.43.59L10.3 9.45l-7.72 7.72c-.78.78-.78 2.05 0 2.83L4 21.41c.39.39.9.59 1.41.59.51 0 1.02-.2 1.41-.59l7.78-7.78 2.81-2.81c.8-.78.8-2.07 0-2.86zM5.41 20L4 18.59l7.72-7.72 1.47 1.35L5.41 20z\"/>\n",
       "  </svg>\n",
       "      </button>\n",
       "      \n",
       "  <style>\n",
       "    .colab-df-container {\n",
       "      display:flex;\n",
       "      flex-wrap:wrap;\n",
       "      gap: 12px;\n",
       "    }\n",
       "\n",
       "    .colab-df-convert {\n",
       "      background-color: #E8F0FE;\n",
       "      border: none;\n",
       "      border-radius: 50%;\n",
       "      cursor: pointer;\n",
       "      display: none;\n",
       "      fill: #1967D2;\n",
       "      height: 32px;\n",
       "      padding: 0 0 0 0;\n",
       "      width: 32px;\n",
       "    }\n",
       "\n",
       "    .colab-df-convert:hover {\n",
       "      background-color: #E2EBFA;\n",
       "      box-shadow: 0px 1px 2px rgba(60, 64, 67, 0.3), 0px 1px 3px 1px rgba(60, 64, 67, 0.15);\n",
       "      fill: #174EA6;\n",
       "    }\n",
       "\n",
       "    [theme=dark] .colab-df-convert {\n",
       "      background-color: #3B4455;\n",
       "      fill: #D2E3FC;\n",
       "    }\n",
       "\n",
       "    [theme=dark] .colab-df-convert:hover {\n",
       "      background-color: #434B5C;\n",
       "      box-shadow: 0px 1px 3px 1px rgba(0, 0, 0, 0.15);\n",
       "      filter: drop-shadow(0px 1px 2px rgba(0, 0, 0, 0.3));\n",
       "      fill: #FFFFFF;\n",
       "    }\n",
       "  </style>\n",
       "\n",
       "      <script>\n",
       "        const buttonEl =\n",
       "          document.querySelector('#df-4be8bcbb-62a5-47fa-8e8c-553235dd7f9e button.colab-df-convert');\n",
       "        buttonEl.style.display =\n",
       "          google.colab.kernel.accessAllowed ? 'block' : 'none';\n",
       "\n",
       "        async function convertToInteractive(key) {\n",
       "          const element = document.querySelector('#df-4be8bcbb-62a5-47fa-8e8c-553235dd7f9e');\n",
       "          const dataTable =\n",
       "            await google.colab.kernel.invokeFunction('convertToInteractive',\n",
       "                                                     [key], {});\n",
       "          if (!dataTable) return;\n",
       "\n",
       "          const docLinkHtml = 'Like what you see? Visit the ' +\n",
       "            '<a target=\"_blank\" href=https://colab.research.google.com/notebooks/data_table.ipynb>data table notebook</a>'\n",
       "            + ' to learn more about interactive tables.';\n",
       "          element.innerHTML = '';\n",
       "          dataTable['output_type'] = 'display_data';\n",
       "          await google.colab.output.renderOutput(dataTable, element);\n",
       "          const docLink = document.createElement('div');\n",
       "          docLink.innerHTML = docLinkHtml;\n",
       "          element.appendChild(docLink);\n",
       "        }\n",
       "      </script>\n",
       "    </div>\n",
       "  </div>\n",
       "  "
      ],
      "text/plain": [
       "                                            news_text  \\\n",
       "0    Cookies on GOV.UK We use some essential cooki...   \n",
       "1    Cookies on GOV.UK We use some essential cooki...   \n",
       "2    Cookies on GOV.UK We use some essential cooki...   \n",
       "3    Covid: 'Nail-biting' weeks ahead for NHS, hos...   \n",
       "4    Hospitals across UK 'must prepare for Covid s...   \n",
       "..                                                ...   \n",
       "69   RNAS Culdrose explains how it's combating Cov...   \n",
       "70   COVID-19: 2.6 million jabs given to 2.3 milli...   \n",
       "71   Covid-19: Surge leaves key hospital services ...   \n",
       "72   Coronavirus latest: Healthy gut bacteria coul...   \n",
       "73   Intended for healthcare professionals Search ...   \n",
       "\n",
       "                             date  \\\n",
       "0   Mon, 04 Jan 2021 08:00:00 GMT   \n",
       "1   Mon, 04 Jan 2021 08:00:00 GMT   \n",
       "2   Mon, 04 Jan 2021 08:00:00 GMT   \n",
       "3   Fri, 01 Jan 2021 08:00:00 GMT   \n",
       "4   Sat, 02 Jan 2021 08:00:00 GMT   \n",
       "..                            ...   \n",
       "69  Wed, 13 Jan 2021 08:00:00 GMT   \n",
       "70  Mon, 11 Jan 2021 08:00:00 GMT   \n",
       "71  Thu, 14 Jan 2021 08:00:00 GMT   \n",
       "72  Mon, 11 Jan 2021 08:00:00 GMT   \n",
       "73  Mon, 11 Jan 2021 08:00:00 GMT   \n",
       "\n",
       "                                                 link  \\\n",
       "0   https://www.gov.uk/government/news/first-peopl...   \n",
       "1   https://www.gov.uk/government/news/covid-19-al...   \n",
       "2   https://www.gov.uk/government/news/over-5000-a...   \n",
       "3                https://www.bbc.com/news/uk-55505722   \n",
       "4              https://www.bbc.co.uk/news/uk-55514363   \n",
       "..                                                ...   \n",
       "69  https://www.cornwalllive.com/news/cornwall-new...   \n",
       "70  https://news.sky.com/story/covid-19-2-6-millio...   \n",
       "71           https://www.bbc.com/news/health-55575112   \n",
       "72  https://inews.co.uk/news/health/coronavirus-la...   \n",
       "73            https://www.bmj.com/content/372/bmj.n74   \n",
       "\n",
       "                                                title  \n",
       "0   First people to receive Oxford University/Astr...  \n",
       "1   COVID-19 alert level: update from the UK Chief...  \n",
       "2   Over 5000 armed forces deployed in support of ...  \n",
       "3   Covid: 'Nail-biting' weeks ahead for NHS, hosp...  \n",
       "4   Hospitals across UK 'must prepare for Covid su...  \n",
       "..                                                ...  \n",
       "69  RNAS Culdrose explains how it's combating Covi...  \n",
       "70  COVID-19: 2.6 million jabs given to 2.3 millio...  \n",
       "71  Covid-19: Surge leaves key hospital services '...  \n",
       "72  Healthy gut bacteria could help prevent severe...  \n",
       "73  Covid-19: UK approves Moderna vaccine to be gi...  \n",
       "\n",
       "[217 rows x 4 columns]"
      ]
     },
     "execution_count": 175,
     "metadata": {},
     "output_type": "execute_result"
    }
   ],
   "source": [
    "dataset.head(-20)"
   ]
  },
  {
   "cell_type": "code",
   "execution_count": 9,
   "id": "zBULIq7VmE0w",
   "metadata": {
    "colab": {
     "base_uri": "https://localhost:8080/",
     "height": 1000
    },
    "id": "zBULIq7VmE0w",
    "outputId": "4115b8c4-8270-4692-d324-d9efecdd88cb"
   },
   "outputs": [
    {
     "data": {
      "text/plain": [
       "(917, 5)"
      ]
     },
     "execution_count": 9,
     "metadata": {},
     "output_type": "execute_result"
    }
   ],
   "source": [
    "x=pd.read_csv(r\"C:\\Users\\WELCOME\\Downloads\\data_27_oct_to_14_dec.csv\")\n",
    "x.shape"
   ]
  },
  {
   "cell_type": "code",
   "execution_count": 11,
   "id": "GEMzxdfYdNMO",
   "metadata": {
    "colab": {
     "base_uri": "https://localhost:8080/"
    },
    "id": "GEMzxdfYdNMO",
    "outputId": "7875eef4-9d84-45ae-b204-2c962340337f"
   },
   "outputs": [
    {
     "name": "stdout",
     "output_type": "stream",
     "text": [
      "2020-12-31 00:00:00\n"
     ]
    }
   ],
   "source": [
    "#dataset.to_csv(\"data_till_Jan_15.csv\")\n",
    "#m=pd.Series(pd.date_range(\"2020-12-1\", freq=\"M\", periods=3))\n",
    "#print(m[0])"
   ]
  },
  {
   "cell_type": "code",
   "execution_count": 14,
   "id": "8UMN3iTQMT7t",
   "metadata": {
    "colab": {
     "base_uri": "https://localhost:8080/"
    },
    "id": "8UMN3iTQMT7t",
    "outputId": "acac7330-a976-47f0-e905-d4beeaa270af"
   },
   "outputs": [
    {
     "name": "stdout",
     "output_type": "stream",
     "text": [
      "0   2021-07-27\n",
      "1   2021-07-28\n",
      "2   2021-07-29\n",
      "3   2021-07-30\n",
      "dtype: datetime64[ns]\n"
     ]
    }
   ],
   "source": [
    "##d=pd.Series(pd.date_range(\"2021-07-27\",periods=4, freq='D'))\n",
    "#print(d)"
   ]
  },
  {
   "cell_type": "code",
   "execution_count": 229,
   "id": "r-O5Wf-xQU_8",
   "metadata": {
    "colab": {
     "base_uri": "https://localhost:8080/"
    },
    "id": "r-O5Wf-xQU_8",
    "outputId": "6b91c7e4-815f-4136-97ec-a03ffae958a1"
   },
   "outputs": [
    {
     "name": "stdout",
     "output_type": "stream",
     "text": [
      "2020-12-31 00:00:00\n",
      "2020-12-31\n",
      "2021-01-03\n"
     ]
    }
   ],
   "source": [
    "#print(d[0])\n",
    "##from_date=d[0].date()\n",
    "#print(from_date)\n",
    "#to_date=d[1].date()\n",
    "#print(to_date)"
   ]
  },
  {
   "cell_type": "code",
   "execution_count": null,
   "id": "40114005",
   "metadata": {
    "id": "40114005"
   },
   "outputs": [],
   "source": [
    "#data_jan_to_march=get_data()"
   ]
  },
  {
   "cell_type": "code",
   "execution_count": 194,
   "id": "60852741",
   "metadata": {
    "id": "60852741"
   },
   "outputs": [],
   "source": [
    "#response['articles']"
   ]
  },
  {
   "cell_type": "code",
   "execution_count": null,
   "id": "408b3f29",
   "metadata": {
    "id": "408b3f29",
    "outputId": "a18efb63-e242-430c-9e2a-42bf9b62721e"
   },
   "outputs": [
    {
     "data": {
      "text/html": [
       "<div>\n",
       "<style scoped>\n",
       "    .dataframe tbody tr th:only-of-type {\n",
       "        vertical-align: middle;\n",
       "    }\n",
       "\n",
       "    .dataframe tbody tr th {\n",
       "        vertical-align: top;\n",
       "    }\n",
       "\n",
       "    .dataframe thead th {\n",
       "        text-align: right;\n",
       "    }\n",
       "</style>\n",
       "<table border=\"1\" class=\"dataframe\">\n",
       "  <thead>\n",
       "    <tr style=\"text-align: right;\">\n",
       "      <th></th>\n",
       "      <th>title</th>\n",
       "      <th>news</th>\n",
       "      <th>date</th>\n",
       "    </tr>\n",
       "  </thead>\n",
       "  <tbody>\n",
       "    <tr>\n",
       "      <th>0</th>\n",
       "      <td>First people to receive Oxford University/Astr...</td>\n",
       "      <td>https://www.gov.uk/government/news/first-peopl...</td>\n",
       "      <td>Mon, 04 Jan 2021 08:00:00 GMT</td>\n",
       "    </tr>\n",
       "    <tr>\n",
       "      <th>1</th>\n",
       "      <td>COVID-19 alert level: update from the UK Chief...</td>\n",
       "      <td>https://www.gov.uk/government/news/covid-19-al...</td>\n",
       "      <td>Mon, 04 Jan 2021 08:00:00 GMT</td>\n",
       "    </tr>\n",
       "    <tr>\n",
       "      <th>2</th>\n",
       "      <td>Over 5000 armed forces deployed in support of ...</td>\n",
       "      <td>https://www.gov.uk/government/news/over-5000-a...</td>\n",
       "      <td>Mon, 04 Jan 2021 08:00:00 GMT</td>\n",
       "    </tr>\n",
       "    <tr>\n",
       "      <th>3</th>\n",
       "      <td>Covid: 'Nail-biting' weeks ahead for NHS, hosp...</td>\n",
       "      <td>https://www.bbc.com/news/uk-55505722</td>\n",
       "      <td>Fri, 01 Jan 2021 08:00:00 GMT</td>\n",
       "    </tr>\n",
       "    <tr>\n",
       "      <th>4</th>\n",
       "      <td>Prime Minister announces national lockdown - G...</td>\n",
       "      <td>https://www.gov.uk/government/news/prime-minis...</td>\n",
       "      <td>Mon, 04 Jan 2021 08:00:00 GMT</td>\n",
       "    </tr>\n",
       "  </tbody>\n",
       "</table>\n",
       "</div>"
      ],
      "text/plain": [
       "                                               title  \\\n",
       "0  First people to receive Oxford University/Astr...   \n",
       "1  COVID-19 alert level: update from the UK Chief...   \n",
       "2  Over 5000 armed forces deployed in support of ...   \n",
       "3  Covid: 'Nail-biting' weeks ahead for NHS, hosp...   \n",
       "4  Prime Minister announces national lockdown - G...   \n",
       "\n",
       "                                                news  \\\n",
       "0  https://www.gov.uk/government/news/first-peopl...   \n",
       "1  https://www.gov.uk/government/news/covid-19-al...   \n",
       "2  https://www.gov.uk/government/news/over-5000-a...   \n",
       "3               https://www.bbc.com/news/uk-55505722   \n",
       "4  https://www.gov.uk/government/news/prime-minis...   \n",
       "\n",
       "                            date  \n",
       "0  Mon, 04 Jan 2021 08:00:00 GMT  \n",
       "1  Mon, 04 Jan 2021 08:00:00 GMT  \n",
       "2  Mon, 04 Jan 2021 08:00:00 GMT  \n",
       "3  Fri, 01 Jan 2021 08:00:00 GMT  \n",
       "4  Mon, 04 Jan 2021 08:00:00 GMT  "
      ]
     },
     "execution_count": 8,
     "metadata": {},
     "output_type": "execute_result"
    }
   ],
   "source": [
    "links.head()"
   ]
  },
  {
   "cell_type": "markdown",
   "id": "933e5666",
   "metadata": {
    "id": "fb3b08fd"
   },
   "source": [
    "## The data was collected in chunks for a 3 months period at a time due to limited processor capabilities. However, the code mentioned here for the data collection is the same. ONLY the dates of news headlines need to be changed for piecewise data collection."
   ]
  },
  {
   "cell_type": "code",
   "execution_count": null,
   "id": "103d811b",
   "metadata": {
    "id": "103d811b"
   },
   "outputs": [],
   "source": []
  }
 ],
 "metadata": {
  "colab": {
   "collapsed_sections": [],
   "name": "GoogleNews-Rapid API.ipynb",
   "provenance": []
  },
  "kernelspec": {
   "display_name": "Python 3 (ipykernel)",
   "language": "python",
   "name": "python3"
  },
  "language_info": {
   "codemirror_mode": {
    "name": "ipython",
    "version": 3
   },
   "file_extension": ".py",
   "mimetype": "text/x-python",
   "name": "python",
   "nbconvert_exporter": "python",
   "pygments_lexer": "ipython3",
   "version": "3.9.12"
  }
 },
 "nbformat": 4,
 "nbformat_minor": 5
}
